{
 "cells": [
  {
   "cell_type": "markdown",
   "metadata": {},
   "source": [
    "## A Dial Electric Meter Reader based on YOLO"
   ]
  },
  {
   "cell_type": "markdown",
   "metadata": {},
   "source": [
    "Author: SU, Jia Cheng (Boston University).\n",
    "\n",
    "Update: July 23, 2024."
   ]
  },
  {
   "cell_type": "markdown",
   "metadata": {},
   "source": [
    "This project is a part for our research on Demand Responce facing residential communities. We are focusing on fomulating technical solutions to societal necessities. Utility companies are not willing to monitor and store user's meter information in real-time, even though they are permitted, capable of, and are currently collecting the data on daily basis. Nonetheless, we the users are not able to either frequently collect or analyze the numbers we are producing. Therefore, we come up with this tool to help monitor our own meters with only a webcam. \n",
    "\n",
    "\n",
    "This project is based on YOLO. We collected images of dial meters from public areas and formulate a computer vision model using YOLO. The model is for recognizing the dials from pictures for further processes. After cropping the dials, we apply morphological methods to rule out the shape of the needle hand, and optimizes its read by minimizing the projection area. We finally take algebraic methods to calculate the overall read of the meter in the scene.\n",
    "\n",
    "\n",
    "Limits of this project includes:"
   ]
  },
  {
   "cell_type": "markdown",
   "metadata": {},
   "source": [
    "### External packages"
   ]
  },
  {
   "cell_type": "code",
   "execution_count": 1,
   "metadata": {},
   "outputs": [],
   "source": [
    "import numpy as np\n",
    "import math\n",
    "from ultralytics import YOLO\n",
    "import cv2\n",
    "import time\n",
    "import numpy as np\n",
    "from scipy.stats import norm\n",
    "from sklearn.linear_model import LinearRegression\n",
    "import os\n",
    "import shutil\n"
   ]
  },
  {
   "cell_type": "markdown",
   "metadata": {},
   "source": [
    "### Predict using YOLO"
   ]
  },
  {
   "cell_type": "markdown",
   "metadata": {},
   "source": [
    "Model is established using codes in another file. Program is deployed on SCC On Demand at Boston University. Results of prediction is saved for future usages."
   ]
  },
  {
   "cell_type": "code",
   "execution_count": 2,
   "metadata": {},
   "outputs": [
    {
     "name": "stdout",
     "output_type": "stream",
     "text": [
      "\n",
      "image 1/7 /Users/hans/Boston University/2023C/sample/1.JPG: 448x640 5 subplates, 81.6ms\n",
      "image 2/7 /Users/hans/Boston University/2023C/sample/2.JPG: 448x640 5 subplates, 87.7ms\n",
      "image 3/7 /Users/hans/Boston University/2023C/sample/3.JPG: 448x640 5 subplates, 81.6ms\n",
      "image 4/7 /Users/hans/Boston University/2023C/sample/4.JPG: 448x640 5 subplates, 82.0ms\n",
      "image 5/7 /Users/hans/Boston University/2023C/sample/5.jpeg: 640x480 5 subplates, 96.3ms\n",
      "image 6/7 /Users/hans/Boston University/2023C/sample/6.jpeg: 448x640 10 subplates, 90.7ms\n",
      "image 7/7 /Users/hans/Boston University/2023C/sample/7.jpeg: 448x640 5 subplates, 85.4ms\n",
      "Speed: 2.6ms preprocess, 86.5ms inference, 0.4ms postprocess per image at shape (1, 3, 448, 640)\n",
      "Results saved to \u001b[1mruns/detect/predict14\u001b[0m\n",
      "7 labels saved to runs/detect/predict14/labels\n"
     ]
    }
   ],
   "source": [
    "model = YOLO('images/0717/best.pt')\n",
    "source = \"sample\"\n",
    "\n",
    "results = model.predict(source, \n",
    "                        save=True, \n",
    "                        save_txt=True, \n",
    "                        save_conf=True, \n",
    "                        save_crop=True, \n",
    "                        show_labels=False, \n",
    "                        conf=0.85,)"
   ]
  },
  {
   "cell_type": "markdown",
   "metadata": {},
   "source": [
    "### Helper Methods for Morphorlogical Processes"
   ]
  },
  {
   "cell_type": "code",
   "execution_count": 3,
   "metadata": {},
   "outputs": [],
   "source": [
    "def get_angle(xy1, xy2) -> float:\n",
    "    x1, y1 = xy1\n",
    "    x2, y2 = xy2\n",
    "    m = (y2 - y1) / (x2 - x1)\n",
    "    radian = - np.arctan(m)\n",
    "    angle = np.rad2deg(radian)\n",
    "    return angle\n",
    "            \n",
    "def get_cropped_xyxy(img, xyxy):\n",
    "    x1f, y1f, x2f, y2f = tuple(xyxy)\n",
    "    x1 = round(x1f)\n",
    "    y1 = round(y1f)\n",
    "    x2 = round(x2f)\n",
    "    y2 = round(y2f)\n",
    "    cropped_img = img[y1:y2, x1:x2]\n",
    "    # _name = time.time()\n",
    "    # cv2.imwrite(f'sample/cropped/{_name}.jpg', cropped_img)\n",
    "    return cropped_img\n",
    "\n",
    "def get_cropped_xywh(img, xywh):\n",
    "    xf, yf, wf, hf = tuple(xywh)\n",
    "    x = round(xf)\n",
    "    y = round(yf)\n",
    "    w = round(15 / 32 * wf)\n",
    "    h = round(15 / 32 * hf)\n",
    "    cropped_img = img[y-w:y+w, x-w:x+w]\n",
    "    # _name = time.time()\n",
    "    # cv2.imwrite(f'sample/cropped/{_name}.jpg', cropped_img)\n",
    "    return cropped_img\n",
    "\n",
    "def make_square(img):\n",
    "    h, w = img.shape[:2]\n",
    "    new_size = w * 2, w * 2\n",
    "    # square_img = np.zeros((new_size, new_size, 3), dtype=np.uint8)\n",
    "    # x_offset = ()\n",
    "    stretched_image = cv2.resize(img, new_size, interpolation=cv2.INTER_LINEAR)\n",
    "    # _name = time.time()\n",
    "    # cv2.imwrite(f'sample/squ/{_name}.jpg', stretched_image)\n",
    "    return stretched_image\n",
    "\n",
    "def make_binary(img):\n",
    "    gray_image = cv2.cvtColor(img, cv2.COLOR_BGR2GRAY)\n",
    "    binary_image_adaptive = cv2.adaptiveThreshold(gray_image, 255, cv2.ADAPTIVE_THRESH_GAUSSIAN_C, cv2.THRESH_BINARY, 11, 2)\n",
    "    _, binary_image_otsus = cv2.threshold(gray_image, 0, 255, cv2.THRESH_BINARY + cv2.THRESH_OTSU)\n",
    "    ## Mode Selector ##\n",
    "    adopted = 255 - binary_image_otsus\n",
    "    # _name = time.time()\n",
    "    # cv2.imwrite(f'sample/bin/{_name}.jpg', adopted)\n",
    "    return adopted\n",
    "\n",
    "def make_circled(img):\n",
    "    size, _ = img.shape\n",
    "    mask = np.zeros((size, size), dtype=np.uint8)\n",
    "    # print(f'{size} & {channels}')\n",
    "    center = (size // 2, size // 2)\n",
    "    radius = size // 2\n",
    "    cv2.circle(mask, center, radius, 0, thickness=-1)\n",
    "    result_image = np.where(mask == 255, 0, img)\n",
    "    # eroded_img = make_eroded(result_image)\n",
    "    # _name = time.time()\n",
    "    # cv2.imwrite(f'sample/cir/{_name}.jpg', eroded_img)\n",
    "    return result_image\n",
    "\n",
    "def make_eroded(img):\n",
    "    median_blurred_image = cv2.medianBlur(img, 15)\n",
    "    # 创建结构元素（3x3矩形）\n",
    "    kernel = np.ones((21, 21), np.uint8)\n",
    "    # 执行腐蚀操作\n",
    "    eroded_image = cv2.erode(median_blurred_image, kernel, iterations=1)\n",
    "    # _name = time.time()\n",
    "    # cv2.imwrite(f'sample/cir/{_name}.jpg', eroded_image)\n",
    "    return eroded_image\n"
   ]
  },
  {
   "cell_type": "markdown",
   "metadata": {},
   "source": [
    "### Helper Methods for Inference of Needle Hand Read"
   ]
  },
  {
   "cell_type": "code",
   "execution_count": 4,
   "metadata": {},
   "outputs": [],
   "source": [
    "def get_dir_mean_angle(dx, dy):\n",
    "    radii = np.sqrt(dx**2 + dy**2)\n",
    "    angles = np.arctan2(dy, dx)\n",
    "    angles_degrees = np.degrees(angles)\n",
    "\n",
    "    weights = radii\n",
    "    weighted_avg_angle = np.average(angles_degrees, weights=weights)\n",
    "    return weighted_avg_angle\n",
    "\n",
    "def get_dir_regression(dx, dy):\n",
    "    y_indices, x_indices = dx, dy\n",
    "    X = x_indices.reshape(-1, 1)  \n",
    "    y = y_indices \n",
    "    model = LinearRegression()\n",
    "    model.fit(X, y)\n",
    "\n",
    "    slope = model.coef_[0]\n",
    "    print(f'{slope:.4f}')\n",
    "    angle_radians = np.arctan(slope)\n",
    "    angle_degrees = np.degrees(angle_radians)\n",
    "    return angle_degrees\n",
    "    \n",
    "def get_dir_ratio(dx, dy):\n",
    "    slope = np.mean(dy) / np.mean(dx)\n",
    "    print(f'{slope:.4f}')\n",
    "    angle_radians = np.arctan(slope)\n",
    "    angle_degrees = np.degrees(angle_radians)\n",
    "    return angle_degrees\n",
    "\n",
    "def calculate_projection_area(binary_image, angle):\n",
    "    center = (binary_image.shape[1] // 2, binary_image.shape[0] // 2)\n",
    "    rotation_matrix = cv2.getRotationMatrix2D(center, angle, 1.0)\n",
    "    rotated_image = cv2.warpAffine(binary_image, rotation_matrix, (binary_image.shape[1], binary_image.shape[0]))\n",
    "\n",
    "    projection = np.sum(rotated_image, axis=0)  \n",
    "    projection_area = np.sum(projection > 0)  \n",
    "\n",
    "    return projection_area\n",
    "\n",
    "def find_min_projection_angle(binary_image):\n",
    "    angles = np.arange(0, 179, 2)  \n",
    "    min_area = float('inf')\n",
    "    best_angle = None\n",
    "\n",
    "    for angle in angles:\n",
    "        area = calculate_projection_area(binary_image, angle)\n",
    "        if area < min_area:\n",
    "            min_area = area\n",
    "            best_angle = angle\n",
    "\n",
    "    return best_angle, min_area\n",
    "\n",
    "def count_white_pixels(binary_image) -> int:\n",
    "    return np.sum(binary_image == 255)\n",
    "\n",
    "def is_lower_half_more_white(binary_image) -> bool:\n",
    "    (h, w) = binary_image.shape[:2]\n",
    "    mid = h // 2\n",
    "    upper_half = binary_image[:mid, :]\n",
    "    lower_half = binary_image[mid:, :]\n",
    "\n",
    "    upper_white_count = count_white_pixels(upper_half)\n",
    "    lower_white_count = count_white_pixels(lower_half)\n",
    "    if lower_white_count > upper_white_count:\n",
    "        return True\n",
    "    return False\n",
    "\n",
    "def is_left_half_more_white(binary_image) -> bool:\n",
    "    (h, w) = binary_image.shape[:2]\n",
    "    mid = w // 2\n",
    "    left_half = binary_image[:, :mid]\n",
    "    right_half = binary_image[:, mid:]\n",
    "\n",
    "    left_white_count = count_white_pixels(left_half)\n",
    "    right_white_count = count_white_pixels(right_half)\n",
    "    if left_white_count > right_white_count:\n",
    "        return True\n",
    "    return False\n",
    "\n",
    "def make_circular_mask(img):\n",
    "    size, _ = img.shape[:2]\n",
    "    center = (size // 2, size // 2)\n",
    "    radius = size // 4  \n",
    "    mask = np.ones_like(img, dtype=np.uint8) * 255  \n",
    "    cv2.circle(mask, center, radius, (0, 0, 0), -1)  \n",
    "    masked_image = cv2.bitwise_and(img, mask)\n",
    "    return masked_image\n",
    "\n",
    "def get_dir_projection(img):\n",
    "    best_angle, min_area = find_min_projection_angle(img)\n",
    "    masked_img = make_circular_mask(img)\n",
    "    if is_left_half_more_white(masked_img): best_angle+= 180\n",
    "    if is_lower_half_more_white(masked_img):\n",
    "        if best_angle < 70:\n",
    "            best_angle += 180\n",
    "        if best_angle > 280:\n",
    "            best_angle -= 180\n",
    "    if not is_lower_half_more_white(masked_img) and 100 < best_angle < 260:\n",
    "        best_angle -= 180\n",
    "    return best_angle"
   ]
  },
  {
   "cell_type": "markdown",
   "metadata": {},
   "source": [
    "### Mode Selector of Inference of Needle Hands"
   ]
  },
  {
   "cell_type": "code",
   "execution_count": 5,
   "metadata": {},
   "outputs": [],
   "source": [
    "def get_dir(img) -> float:\n",
    "    length, _ = img.shape\n",
    "    center_x, center_y = length // 2, length // 2\n",
    "    y_indices, x_indices = np.where(img == 255)\n",
    "    dx = x_indices - center_x\n",
    "    dy = center_y - y_indices\n",
    "\n",
    "    ##------ Mode Selector ------##\n",
    "    # angle = get_dir_mean_angle(dx, dy)\n",
    "    # angle = get_dir_regression(dx, dy)\n",
    "    # angle = get_dir_ratio(dx, dy)\n",
    "    angle = get_dir_projection(img)\n",
    "    # -------------------------------- #\n",
    "    return angle\n",
    "    "
   ]
  },
  {
   "cell_type": "markdown",
   "metadata": {},
   "source": [
    "### Other Helper Methods"
   ]
  },
  {
   "cell_type": "code",
   "execution_count": 6,
   "metadata": {},
   "outputs": [],
   "source": [
    "def clear_directory(directory_path):\n",
    "    # 检查目录是否存在\n",
    "    if not os.path.exists(directory_path):\n",
    "        # print(f\"目录 {directory_path} 不存在。\")\n",
    "        return\n",
    "\n",
    "    # 遍历目录中的所有文件\n",
    "    for filename in os.listdir(directory_path):\n",
    "        file_path = os.path.join(directory_path, filename)\n",
    "        \n",
    "        # 如果是文件，删除文件\n",
    "        if os.path.isfile(file_path):\n",
    "            os.remove(file_path)\n",
    "            # print(f\"删除文件: {file_path}\")\n",
    "        # 如果是目录，删除目录及其内容\n",
    "        elif os.path.isdir(file_path):\n",
    "            shutil.rmtree(file_path)\n",
    "            # print(f\"删除目录及其内容: {file_path}\")\n",
    "\n",
    "# clear_directory(f'sample/marked')"
   ]
  },
  {
   "cell_type": "code",
   "execution_count": 7,
   "metadata": {},
   "outputs": [
    {
     "data": {
      "text/plain": [
       "\"\\nfor i in range(1,7):\\n    # 读取图像并转换为灰度图像\\n    image_test = cv2.imread(f'sample/test/{i}.jpeg', cv2.IMREAD_GRAYSCALE)\\n\\n    # 将图像二值化，如果已经是二值化图像可以跳过这一步\\n    _, binary_image = cv2.threshold(image_test, 240, 255, cv2.THRESH_BINARY)\\n    image_test_rslt = get_dir(binary_image)\\n    image_test_rslt2 = draw_txt(binary_image, f'{image_test_rslt:.0f}', channel=1)\\n    cv2.imwrite(f'sample/test/{time.time()}.jpg', image_test_rslt2)\\n\""
      ]
     },
     "execution_count": 7,
     "metadata": {},
     "output_type": "execute_result"
    }
   ],
   "source": [
    "\"\"\"\n",
    "for i in range(1,7):\n",
    "    # 读取图像并转换为灰度图像\n",
    "    image_test = cv2.imread(f'sample/test/{i}.jpeg', cv2.IMREAD_GRAYSCALE)\n",
    "\n",
    "    # 将图像二值化，如果已经是二值化图像可以跳过这一步\n",
    "    _, binary_image = cv2.threshold(image_test, 240, 255, cv2.THRESH_BINARY)\n",
    "    image_test_rslt = get_dir(binary_image)\n",
    "    image_test_rslt2 = draw_txt(binary_image, f'{image_test_rslt:.0f}', channel=1)\n",
    "    cv2.imwrite(f'sample/test/{time.time()}.jpg', image_test_rslt2)\n",
    "\"\"\""
   ]
  },
  {
   "cell_type": "code",
   "execution_count": 8,
   "metadata": {},
   "outputs": [],
   "source": [
    "def draw_txt(img, text, channel=3, font_scale=1):\n",
    "    font = cv2.FONT_HERSHEY_SIMPLEX  \n",
    "    # font_scale = 1 \n",
    "    font_color = (0, 0, 255) if channel == 3 else 255\n",
    "    thickness = 2 \n",
    "    text_size, _ = cv2.getTextSize(text, font, font_scale, thickness)\n",
    "    text_width, text_height = text_size\n",
    "    height = img.shape[0]\n",
    "    x = 10  \n",
    "    y = height - 10 \n",
    "    rslt = cv2.putText(img, text, (x, y), font, font_scale, font_color, thickness, lineType=cv2.LINE_AA)\n",
    "    return rslt\n"
   ]
  },
  {
   "cell_type": "markdown",
   "metadata": {},
   "source": [
    "### Class Dial and Meter"
   ]
  },
  {
   "cell_type": "code",
   "execution_count": 9,
   "metadata": {},
   "outputs": [],
   "source": [
    "class Dial:\n",
    "    def __init__(self, result, i) -> None:\n",
    "        self.conf = result.numpy().boxes.conf[i]\n",
    "        self.xyxy = result.numpy().boxes.xyxy[i]\n",
    "        self.xywh = result.numpy().boxes.xywh[i]\n",
    "        self.cropped = get_cropped_xywh(result.orig_img, self.xywh)\n",
    "        self.serial = 5 - i\n",
    "        self.bearing = self.get_bearing()\n",
    "        self.real_bearing = None\n",
    "\n",
    "    def get_bearing(self) -> float:\n",
    "        square_img = make_square(self.cropped)\n",
    "        binary_img = make_binary(square_img)\n",
    "        circled_img = make_circled(binary_img)\n",
    "        eroded_img = make_eroded(circled_img)\n",
    "\n",
    "        direction = get_dir(eroded_img)\n",
    "        # 预留操作接口\n",
    "        # direction = set_direction(direaction)\n",
    "        # 结束\n",
    "        return direction\n",
    "    \n",
    "    def set_direction(orig_direction) -> float:\n",
    "        pass\n",
    "    \n",
    "    def set_real_bearing(self, real_bearing) -> None:\n",
    "        self.real_bearing = real_bearing\n",
    "        return\n",
    "\n",
    "    def offset_bearing(self, offset) -> None:\n",
    "        self.real_bearing = self.bearing + offset\n",
    "        return\n",
    "\n",
    "    def read(self) -> float:\n",
    "        return (self.real_bearing % 360) / 36\n"
   ]
  },
  {
   "cell_type": "code",
   "execution_count": 10,
   "metadata": {},
   "outputs": [],
   "source": [
    "class MeterShapeError(Exception):\n",
    "    def __init__(self, *args: object) -> None:\n",
    "        super().__init__(*args)\n",
    "        self.message = args\n",
    "\n",
    "def is_good_meter(result) -> None:\n",
    "    \"\"\"\n",
    "    Desides whether the result is legal or not.\n",
    "    \"\"\"\n",
    "    # TODO: improve\n",
    "    if result.numpy().boxes.conf.size != 5: raise MeterShapeError(f'Meter has {result.numpy().boxes.conf.size} dials')\n",
    "    return \n"
   ]
  },
  {
   "cell_type": "code",
   "execution_count": 11,
   "metadata": {},
   "outputs": [],
   "source": [
    "class Meter:\n",
    "    def __init__(self, result) -> None:\n",
    "        # TODO 分组/判断\n",
    "        try:\n",
    "            is_good_meter(result)\n",
    "        except MeterShapeError as e:\n",
    "            print(f'{result.path} is not a good Meter: {e}')\n",
    "            return\n",
    "        self.result = result\n",
    "        \"\"\"\n",
    "        Attributes:\n",
    "            orig_img -> ndarray\n",
    "            orig_shape -> tuple\n",
    "            boxes -> Boxes\n",
    "        \"\"\"\n",
    "        dials_l = list()\n",
    "        # self.path = result.path\n",
    "        for i in range(0,5):\n",
    "            dial = Dial(result, i)\n",
    "            dials_l.append(dial)\n",
    "        sorted_dials = sorted(dials_l, key=lambda dial: dial.xywh[0])\n",
    "        self.dials = {i+1: array for i, array in enumerate(sorted_dials)}\n",
    "        self.horizon = self.get_horizon()\n",
    "        self.init_single_reads()\n",
    "        self.draw_reads()\n",
    "\n",
    "    def init_single_reads(self):\n",
    "        for dial in self.dials.values():\n",
    "            dial.offset_bearing(self.horizon)\n",
    "        self.single_reads = dict()\n",
    "        for i, dial in self.dials.items():\n",
    "            if i % 2 == 1:\n",
    "                self.single_reads[i] = dial.read()\n",
    "            else:\n",
    "                self.single_reads[i] = 10 - dial.read()\n",
    "\n",
    "    def draw_reads(self):\n",
    "        txt = ''\n",
    "        # for i in range(1,6):\n",
    "        #     txt += f'{self.single_reads[i]:.1f} '\n",
    "        txt += f'{self.read():05} kWh'\n",
    "        print(txt) ## @@\n",
    "        rslt_img = draw_txt(self.result.orig_img, txt, font_scale=5)\n",
    "        _name = time.time()\n",
    "        # TODO: path regulator\n",
    "        cv2.imwrite(f'sample/{FOLDER_NAME}/{_name}.jpg', rslt_img)\n",
    "        del rslt_img\n",
    "        return\n",
    "    \n",
    "    def read(self) -> int:\n",
    "        \"\"\"Wrapper method\"\"\"\n",
    "        # r = self.simple_read()\n",
    "        r = self.more_robust_read()\n",
    "        return r\n",
    "\n",
    "    def simple_read(self) -> int:\n",
    "        rslt = 0\n",
    "        for i, read in self.single_reads.items():\n",
    "            sig = 5 - i\n",
    "            rslt += np.floor(read) * 10 ** sig\n",
    "        # print(rslt)\n",
    "        return int(rslt)\n",
    "    \n",
    "    def more_robust_read(self) -> int:\n",
    "        rslt = 0\n",
    "        for i, read in self.single_reads.items():\n",
    "            sig = 5 - i\n",
    "            lower = self.single_reads.get(i+1, -1)\n",
    "            if lower <= 2:\n",
    "                rslt += np.round(read) * 10 ** sig\n",
    "            else:\n",
    "                rslt += np.floor(read) * 10 ** sig\n",
    "        return int(rslt)\n",
    "\n",
    "    def get_horizon(self):\n",
    "        xys = dict()\n",
    "        for i in [1,5,2,4,3]:\n",
    "            xys[i] = tuple(self.dials[i].xywh[0:2])\n",
    "        horizon_ab = dict()\n",
    "        horizon_ab = {'a': get_angle(xys[1], xys[5]),\n",
    "                      'b': get_angle(xys[2], xys[4])}\n",
    "        horizon = np.mean(list(horizon_ab.values()))\n",
    "        return horizon\n",
    "        \n"
   ]
  },
  {
   "cell_type": "markdown",
   "metadata": {},
   "source": [
    "### Instances"
   ]
  },
  {
   "cell_type": "code",
   "execution_count": 13,
   "metadata": {},
   "outputs": [
    {
     "name": "stdout",
     "output_type": "stream",
     "text": [
      "0.5 5.6 4.7 5.7 6.7 05457 kWh\n",
      "0.3 5.7 4.5 5.4 6.7 05457 kWh\n",
      "0.7 5.5 4.4 5.8 6.7 05457 kWh\n",
      "0.6 5.4 4.6 5.5 6.7 05457 kWh\n",
      "9.5 8.2 9.1 8.3 1.0 98981 kWh\n",
      "/Users/hans/Boston University/2023C/sample/6.jpeg is not a good Meter: Meter has 10 dials\n",
      "0.1 1.0 8.9 0.3 1.9 01902 kWh\n"
     ]
    }
   ],
   "source": [
    "FOLDER_NAME = 'final'\n",
    "clear_directory(f'sample/{FOLDER_NAME}')\n",
    "meters = []\n",
    "for result in results:\n",
    "    meters.append(Meter(result))\n",
    "# meter1 = Meter(results[0])\n",
    "# meter2 = Meter(results[1])"
   ]
  }
 ],
 "metadata": {
  "kernelspec": {
   "display_name": "dr",
   "language": "python",
   "name": "python3"
  },
  "language_info": {
   "codemirror_mode": {
    "name": "ipython",
    "version": 3
   },
   "file_extension": ".py",
   "mimetype": "text/x-python",
   "name": "python",
   "nbconvert_exporter": "python",
   "pygments_lexer": "ipython3",
   "version": "3.8.19"
  }
 },
 "nbformat": 4,
 "nbformat_minor": 2
}
